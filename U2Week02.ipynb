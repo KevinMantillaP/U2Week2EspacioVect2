{
  "nbformat": 4,
  "nbformat_minor": 0,
  "metadata": {
    "colab": {
      "provenance": [],
      "mount_file_id": "1nruhsCS7mZ7nMMq5fk3KunddDOSJ-9tr",
      "authorship_tag": "ABX9TyMgRzKeUTMFMnIA4viFzlMv",
      "include_colab_link": true
    },
    "kernelspec": {
      "name": "python3",
      "display_name": "Python 3"
    },
    "language_info": {
      "name": "python"
    }
  },
  "cells": [
    {
      "cell_type": "markdown",
      "metadata": {
        "id": "view-in-github",
        "colab_type": "text"
      },
      "source": [
        "<a href=\"https://colab.research.google.com/github/KevinMantillaP/U2Week2EspacioVect2/blob/main/U2Week02.ipynb\" target=\"_parent\"><img src=\"https://colab.research.google.com/assets/colab-badge.svg\" alt=\"Open In Colab\"/></a>"
      ]
    },
    {
      "cell_type": "markdown",
      "source": [
        "Terminos"
      ],
      "metadata": {
        "id": "8FxXKd8zYE01"
      }
    },
    {
      "cell_type": "code",
      "source": [
        "import os\n",
        "import pandas as pd\n",
        "import collections\n",
        "from google.colab import drive\n",
        "import numpy as np\n",
        "import numpy as np\n",
        "from scipy.spatial.distance import cosine\n",
        "drive.mount('/content/drive')"
      ],
      "metadata": {
        "id": "9B3c5rsRCuaf",
        "colab": {
          "base_uri": "https://localhost:8080/"
        },
        "outputId": "d4091ba5-ac1c-401f-bea0-34d2ea97d5b8"
      },
      "execution_count": 106,
      "outputs": [
        {
          "output_type": "stream",
          "name": "stdout",
          "text": [
            "Drive already mounted at /content/drive; to attempt to forcibly remount, call drive.mount(\"/content/drive\", force_remount=True).\n"
          ]
        }
      ]
    },
    {
      "cell_type": "code",
      "source": [
        "terms_file_path = '/content/drive/MyDrive/terminos.txt'\n",
        "\n",
        "# Leer términos del archivo\n",
        "with open(terms_file_path, 'r') as file:\n",
        "    terms = [line.strip() for line in file.readlines()]\n",
        "\n"
      ],
      "metadata": {
        "id": "cyace7WAQXgi"
      },
      "execution_count": 107,
      "outputs": []
    },
    {
      "cell_type": "code",
      "source": [
        "folder_path = '/content/drive/MyDrive/Data2'\n",
        "\n",
        "# Obtener lista de archivos en la carpeta\n",
        "file_list = os.listdir(folder_path)\n",
        "\n",
        "# Leer los contenidos de cada archivo y almacenarlos en un diccionario\n",
        "texts = {}\n",
        "for filename in file_list:\n",
        "    if filename.endswith('.txt'):\n",
        "        file_path = os.path.join(folder_path, filename)\n",
        "        with open(file_path, 'r') as file:\n",
        "            texts[filename] = file.read()\n"
      ],
      "metadata": {
        "id": "ar36kpXXRNUC"
      },
      "execution_count": 108,
      "outputs": []
    },
    {
      "cell_type": "code",
      "source": [
        "# Crear un diccionario para almacenar los resultados de búsqueda\n",
        "results = {}\n",
        "\n",
        "# Iterar sobre cada término y verificar su presencia en cada texto\n",
        "for term in terms:\n",
        "    term_occurrences = []\n",
        "    for filename, text in texts.items():\n",
        "        if term.lower() in text.lower():\n",
        "            term_occurrences.append(1)\n",
        "        else:\n",
        "            term_occurrences.append(0)\n",
        "    results[term] = term_occurrences\n"
      ],
      "metadata": {
        "id": "1yYtTWFZUb64"
      },
      "execution_count": 109,
      "outputs": []
    },
    {
      "cell_type": "code",
      "source": [
        "# Obtener los términos como lista y los nombres de archivo como lista\n",
        "term_list = list(results.keys())\n",
        "file_list = list(texts.keys())\n",
        "\n",
        "# Crear una lista de tuplas que representan la matriz de resultados\n",
        "result_tuples = [tuple(results[term]) for term in term_list]\n",
        "\n",
        "# Imprimir la lista de tuplas\n",
        "for result_tuple in result_tuples:\n",
        "    print(result_tuple)"
      ],
      "metadata": {
        "id": "aankPdwdVKbz",
        "colab": {
          "base_uri": "https://localhost:8080/"
        },
        "outputId": "95d51dab-e358-4a49-eb32-4e7b171ce9b1"
      },
      "execution_count": 110,
      "outputs": [
        {
          "output_type": "stream",
          "name": "stdout",
          "text": [
            "(0, 0, 0, 0, 0, 0, 0, 0, 0, 0, 0, 0, 0, 0, 0, 0, 0, 0, 0, 0)\n",
            "(1, 1, 0, 0, 0, 0, 1, 0, 0, 0, 1, 0, 1, 0, 0, 0, 0, 0, 0, 0)\n",
            "(0, 0, 0, 0, 0, 0, 0, 0, 0, 0, 0, 0, 0, 0, 0, 0, 0, 0, 1, 0)\n",
            "(0, 0, 0, 0, 0, 0, 1, 0, 0, 0, 0, 0, 1, 0, 0, 1, 0, 0, 0, 0)\n",
            "(0, 0, 0, 0, 0, 0, 0, 0, 0, 0, 0, 0, 0, 0, 0, 0, 0, 0, 0, 0)\n",
            "(0, 0, 0, 0, 1, 0, 0, 0, 0, 0, 0, 0, 0, 0, 0, 0, 0, 0, 0, 0)\n",
            "(0, 0, 1, 0, 0, 0, 0, 0, 0, 0, 0, 0, 0, 1, 1, 0, 0, 0, 0, 0)\n",
            "(0, 0, 0, 0, 0, 0, 0, 0, 0, 0, 0, 0, 0, 0, 0, 0, 0, 0, 0, 1)\n",
            "(0, 0, 0, 0, 0, 1, 0, 0, 0, 0, 0, 0, 0, 0, 0, 0, 0, 0, 0, 0)\n",
            "(0, 0, 0, 0, 0, 0, 0, 0, 0, 0, 0, 0, 0, 0, 0, 0, 0, 0, 0, 0)\n",
            "(0, 0, 0, 0, 0, 0, 0, 0, 0, 0, 0, 0, 0, 0, 0, 0, 0, 0, 0, 0)\n",
            "(0, 0, 0, 0, 0, 0, 0, 0, 0, 0, 0, 0, 0, 0, 0, 0, 0, 0, 0, 0)\n",
            "(0, 0, 0, 0, 0, 0, 0, 0, 0, 0, 0, 0, 0, 0, 0, 0, 0, 0, 0, 0)\n",
            "(0, 0, 0, 0, 0, 0, 0, 0, 0, 0, 0, 0, 0, 0, 0, 0, 0, 0, 0, 0)\n",
            "(0, 0, 0, 0, 0, 0, 0, 0, 0, 0, 0, 0, 0, 0, 0, 0, 0, 0, 0, 0)\n",
            "(0, 0, 0, 0, 0, 0, 0, 0, 0, 0, 0, 0, 0, 0, 0, 0, 0, 0, 0, 0)\n",
            "(0, 0, 0, 0, 0, 0, 0, 0, 0, 0, 0, 0, 0, 0, 0, 0, 0, 0, 0, 0)\n",
            "(0, 0, 0, 0, 0, 0, 0, 0, 0, 0, 0, 0, 0, 0, 0, 0, 0, 0, 0, 0)\n",
            "(0, 0, 0, 0, 0, 0, 0, 0, 0, 0, 0, 0, 0, 0, 0, 0, 0, 0, 0, 0)\n",
            "(0, 0, 0, 0, 0, 0, 0, 0, 0, 1, 1, 0, 0, 0, 0, 0, 0, 0, 1, 0)\n"
          ]
        }
      ]
    },
    {
      "cell_type": "markdown",
      "source": [
        "Query"
      ],
      "metadata": {
        "id": "N77R0K1HXokW"
      }
    },
    {
      "cell_type": "code",
      "source": [
        "terms_file_path2 = '/content/drive/MyDrive/query.txt'\n",
        "\n",
        "# Leer términos del archivo\n",
        "with open(terms_file_path2, 'r') as file:\n",
        "    terms2 = [line.strip() for line in file.readlines()]"
      ],
      "metadata": {
        "id": "mHTEg0iNXpPy"
      },
      "execution_count": 111,
      "outputs": []
    },
    {
      "cell_type": "code",
      "source": [
        "folder_path = '/content/drive/MyDrive/Data2'\n",
        "\n",
        "# Obtener lista de archivos en la carpeta\n",
        "file_list = os.listdir(folder_path)\n",
        "\n",
        "# Leer los contenidos de cada archivo y almacenarlos en un diccionario\n",
        "texts = {}\n",
        "for filename in file_list:\n",
        "    if filename.endswith('.txt'):\n",
        "        file_path = os.path.join(folder_path, filename)\n",
        "        with open(file_path, 'r') as file:\n",
        "            texts[filename] = file.read()"
      ],
      "metadata": {
        "id": "cRiJg-i5XxZE"
      },
      "execution_count": 112,
      "outputs": []
    },
    {
      "cell_type": "code",
      "source": [
        "# Crear un diccionario para almacenar los resultados de búsqueda\n",
        "results2 = {}\n",
        "\n",
        "# Iterar sobre cada término y verificar su presencia en cada texto\n",
        "for term2 in terms2:\n",
        "    term2_occurrences = []\n",
        "    for filename, text in texts.items():\n",
        "        if term2.lower() in text.lower():\n",
        "            term2_occurrences.append(1)\n",
        "        else:\n",
        "            term2_occurrences.append(0)\n",
        "    results[term2] = term2_occurrences"
      ],
      "metadata": {
        "id": "SboKw675X0Tu"
      },
      "execution_count": 113,
      "outputs": []
    },
    {
      "cell_type": "code",
      "source": [
        "# Obtener los términos como lista y los nombres de archivo como lista\n",
        "term2_list = list(results2.keys())\n",
        "file_list = list(texts.keys())\n",
        "\n",
        "# Crear una lista de tuplas que representan la matriz de resultados\n",
        "result2_tuples = [tuple(results2[term2]) for term2 in term2_list]\n",
        "\n",
        "# Imprimir la lista de tuplas\n",
        "for result2_tuple in result2_tuples:\n",
        "    print(result2_tuple)"
      ],
      "metadata": {
        "id": "BOxFf3IjjgiH"
      },
      "execution_count": 114,
      "outputs": []
    },
    {
      "cell_type": "code",
      "source": [
        "# Convertir los resultados en matrices NumPy usando term_occurrences de results y results2\n",
        "matrix1 = np.array([results[term] for term in term_list])\n",
        "matrix2 = np.array([results2[term2] for term2 in term2_list])\n",
        "\n",
        "# Calcular el coseno de la distancia entre cada par de filas\n",
        "cosine_distances = np.zeros((len(matrix1), len(matrix2)))\n",
        "\n",
        "for i in range(len(matrix1)):\n",
        "    for j in range(len(matrix2)):\n",
        "        # Calcular la distancia coseno entre las filas i de matrix1 y j de matrix2\n",
        "        vector1 = matrix1[i]\n",
        "        vector2 = matrix2[j]\n",
        "        dot_product = np.dot(vector1, vector2)\n",
        "        norm_product = np.linalg.norm(vector1) * np.linalg.norm(vector2)\n",
        "        cosine_distance = 1 - dot_product / norm_product\n",
        "\n",
        "        # Almacenar la distancia coseno en la matriz de distancias\n",
        "        cosine_distances[i, j] = cosine_distance\n",
        "\n",
        "# Imprimir la matriz de distancias coseno\n",
        "print(\"Matriz de distancias coseno entre las dos matrices:\")\n",
        "print(cosine_distances)\n"
      ],
      "metadata": {
        "colab": {
          "base_uri": "https://localhost:8080/"
        },
        "id": "GRl-7MuAX7sS",
        "outputId": "1b12ef63-ebe1-4e4b-c476-5b42ac995a44"
      },
      "execution_count": 115,
      "outputs": [
        {
          "output_type": "stream",
          "name": "stdout",
          "text": [
            "Matriz de distancias coseno entre las dos matrices:\n",
            "[]\n"
          ]
        }
      ]
    }
  ]
}